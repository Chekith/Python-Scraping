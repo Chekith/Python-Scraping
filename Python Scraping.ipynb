{
 "cells": [
  {
   "cell_type": "code",
   "execution_count": 6,
   "id": "ca5ad875-1032-4d12-a58d-8474f47dec31",
   "metadata": {},
   "outputs": [],
   "source": [
    "from bs4 import BeautifulSoup\n",
    "import requests\n"
   ]
  },
  {
   "cell_type": "code",
   "execution_count": 9,
   "id": "cbbc8e44-d0c9-45b6-b752-1850cace9760",
   "metadata": {},
   "outputs": [
    {
     "name": "stdout",
     "output_type": "stream",
     "text": [
      "Collecting pandas\n",
      "  Downloading pandas-2.2.3-cp313-cp313-win_amd64.whl.metadata (19 kB)\n",
      "Collecting numpy>=1.26.0 (from pandas)\n",
      "  Downloading numpy-2.1.3-cp313-cp313-win_amd64.whl.metadata (60 kB)\n",
      "Requirement already satisfied: python-dateutil>=2.8.2 in c:\\users\\user\\appdata\\local\\programs\\python\\python313\\lib\\site-packages (from pandas) (2.9.0.post0)\n",
      "Collecting pytz>=2020.1 (from pandas)\n",
      "  Downloading pytz-2024.2-py2.py3-none-any.whl.metadata (22 kB)\n",
      "Collecting tzdata>=2022.7 (from pandas)\n",
      "  Downloading tzdata-2024.2-py2.py3-none-any.whl.metadata (1.4 kB)\n",
      "Requirement already satisfied: six>=1.5 in c:\\users\\user\\appdata\\local\\programs\\python\\python313\\lib\\site-packages (from python-dateutil>=2.8.2->pandas) (1.16.0)\n",
      "Downloading pandas-2.2.3-cp313-cp313-win_amd64.whl (11.5 MB)\n",
      "   ---------------------------------------- 0.0/11.5 MB ? eta -:--:--\n",
      "   --- ------------------------------------ 1.0/11.5 MB 5.5 MB/s eta 0:00:02\n",
      "   ------ --------------------------------- 1.8/11.5 MB 4.7 MB/s eta 0:00:03\n",
      "   --------- ------------------------------ 2.6/11.5 MB 4.3 MB/s eta 0:00:03\n",
      "   ------------ --------------------------- 3.7/11.5 MB 4.2 MB/s eta 0:00:02\n",
      "   --------------- ------------------------ 4.5/11.5 MB 4.1 MB/s eta 0:00:02\n",
      "   ------------------ --------------------- 5.2/11.5 MB 4.1 MB/s eta 0:00:02\n",
      "   --------------------- ------------------ 6.0/11.5 MB 4.1 MB/s eta 0:00:02\n",
      "   ----------------------- ---------------- 6.8/11.5 MB 4.0 MB/s eta 0:00:02\n",
      "   --------------------------- ------------ 7.9/11.5 MB 4.0 MB/s eta 0:00:01\n",
      "   ------------------------------ --------- 8.7/11.5 MB 4.0 MB/s eta 0:00:01\n",
      "   -------------------------------- ------- 9.4/11.5 MB 4.0 MB/s eta 0:00:01\n",
      "   ----------------------------------- ---- 10.2/11.5 MB 4.0 MB/s eta 0:00:01\n",
      "   ---------------------------------------  11.3/11.5 MB 4.0 MB/s eta 0:00:01\n",
      "   ---------------------------------------- 11.5/11.5 MB 3.8 MB/s eta 0:00:00\n",
      "Downloading numpy-2.1.3-cp313-cp313-win_amd64.whl (12.6 MB)\n",
      "   ---------------------------------------- 0.0/12.6 MB ? eta -:--:--\n",
      "   --- ------------------------------------ 1.0/12.6 MB 6.7 MB/s eta 0:00:02\n",
      "   ----- ---------------------------------- 1.8/12.6 MB 4.9 MB/s eta 0:00:03\n",
      "   --------- ------------------------------ 2.9/12.6 MB 4.4 MB/s eta 0:00:03\n",
      "   ----------- ---------------------------- 3.7/12.6 MB 4.3 MB/s eta 0:00:03\n",
      "   -------------- ------------------------- 4.5/12.6 MB 4.2 MB/s eta 0:00:02\n",
      "   ---------------- ----------------------- 5.2/12.6 MB 4.1 MB/s eta 0:00:02\n",
      "   -------------------- ------------------- 6.3/12.6 MB 4.1 MB/s eta 0:00:02\n",
      "   ---------------------- ----------------- 7.1/12.6 MB 4.1 MB/s eta 0:00:02\n",
      "   ------------------------- -------------- 7.9/12.6 MB 4.0 MB/s eta 0:00:02\n",
      "   --------------------------- ------------ 8.7/12.6 MB 4.0 MB/s eta 0:00:01\n",
      "   ------------------------------ --------- 9.4/12.6 MB 4.0 MB/s eta 0:00:01\n",
      "   -------------------------------- ------- 10.2/12.6 MB 4.0 MB/s eta 0:00:01\n",
      "   ----------------------------------- ---- 11.0/12.6 MB 4.0 MB/s eta 0:00:01\n",
      "   -------------------------------------- - 12.1/12.6 MB 4.0 MB/s eta 0:00:01\n",
      "   ---------------------------------------- 12.6/12.6 MB 3.9 MB/s eta 0:00:00\n",
      "Downloading pytz-2024.2-py2.py3-none-any.whl (508 kB)\n",
      "Downloading tzdata-2024.2-py2.py3-none-any.whl (346 kB)\n",
      "Installing collected packages: pytz, tzdata, numpy, pandas\n",
      "Successfully installed numpy-2.1.3 pandas-2.2.3 pytz-2024.2 tzdata-2024.2\n",
      "Note: you may need to restart the kernel to use updated packages.\n"
     ]
    },
    {
     "name": "stderr",
     "output_type": "stream",
     "text": [
      "\n",
      "[notice] A new release of pip is available: 24.2 -> 24.3.1\n",
      "[notice] To update, run: python.exe -m pip install --upgrade pip\n"
     ]
    }
   ],
   "source": [
    "pip install pandas"
   ]
  },
  {
   "cell_type": "code",
   "execution_count": 10,
   "id": "3e6a83a7-4ab7-4921-bd54-3df6bd651d62",
   "metadata": {},
   "outputs": [],
   "source": [
    "import pandas as pd"
   ]
  },
  {
   "cell_type": "code",
   "execution_count": 11,
   "id": "0cc0e053-e42d-44d8-a01f-4f510c943418",
   "metadata": {},
   "outputs": [],
   "source": [
    "import time"
   ]
  },
  {
   "cell_type": "code",
   "execution_count": 12,
   "id": "a75e759e-d400-432e-ae4f-b52e50b1d2d0",
   "metadata": {},
   "outputs": [],
   "source": [
    "url = \"https://www.amazon.in/s?rh=n%3A6612025031&fs=true&ref=lp_6612025031_sar\""
   ]
  },
  {
   "cell_type": "code",
   "execution_count": 14,
   "id": "c1b216fc-c469-4266-bbbc-cbee8b483a75",
   "metadata": {},
   "outputs": [],
   "source": [
    "response = requests.get(url)\n",
    "soup = BeautifulSoup(response.content, \"html.parser\")"
   ]
  },
  {
   "cell_type": "code",
   "execution_count": 15,
   "id": "dc5383a7-0023-42e6-b804-f0581a72a9f3",
   "metadata": {},
   "outputs": [],
   "source": [
    "product_names = []\n",
    "prices = []\n",
    "ratings = []\n",
    "sellers = []"
   ]
  },
  {
   "cell_type": "code",
   "execution_count": 16,
   "id": "ee9b915a-6fad-42f7-ab0c-b9fa4d4de5a6",
   "metadata": {},
   "outputs": [],
   "source": [
    "products = soup.find_all(\"div\", {\"data-component-type\": \"s-search-result\"})"
   ]
  },
  {
   "cell_type": "code",
   "execution_count": 20,
   "id": "994bce8e-d47a-4a2c-8aec-c862bc56371a",
   "metadata": {},
   "outputs": [],
   "source": [
    "for product in products:\n",
    "    # Extract product name\n",
    "    name = product.h2.text.strip() if product.h2 else \"N/A\"\n",
    "    product_names.append(name)\n",
    "    \n",
    "    # Extract price (checking for multiple price formats)\n",
    "    price_whole = product.select_one(\"span.a-price-whole\")\n",
    "    price_fraction = product.select_one(\"span.a-price-fraction\")\n",
    "    if price_whole and price_fraction:\n",
    "        price = price_whole.text.strip() + \".\" + price_fraction.text.strip()\n",
    "    else:\n",
    "        # Alternate way to capture the price\n",
    "        price = product.select_one(\"span.a-price span.a-offscreen\")\n",
    "        price = price.text.strip() if price else \"N/A\"\n",
    "    prices.append(price)\n",
    "    \n",
    "    # Extract rating\n",
    "    rating = product.find(\"span\", class_=\"a-icon-alt\")\n",
    "    ratings.append(rating.text.strip() if rating else \"N/A\")\n",
    "    \n",
    "    # Extract seller (if available)\n",
    "    seller_info = product.find(\"span\", {\"class\": \"a-size-small\"})\n",
    "    if seller_info:\n",
    "        sellers.append(seller_info.text.strip())\n",
    "    else:\n",
    "        sellers.append(\"N/A\")\n",
    "\n",
    "    time.sleep(1)  # Add a delay to mimic human interaction\n"
   ]
  },
  {
   "cell_type": "code",
   "execution_count": 21,
   "id": "34ce3c35-a50d-4558-8a48-7e54655f1be9",
   "metadata": {},
   "outputs": [],
   "source": [
    "df = pd.DataFrame({\n",
    "    \"Product Name\": product_names,\n",
    "    \"Price\": prices,\n",
    "    \"Rating\": ratings,\n",
    "    \"Seller\": sellers,\n",
    "})"
   ]
  },
  {
   "cell_type": "code",
   "execution_count": 23,
   "id": "50358a70-8f5a-46e0-8595-c78dc2bf385e",
   "metadata": {},
   "outputs": [
    {
     "name": "stdout",
     "output_type": "stream",
     "text": [
      "Data saved to amazon_products.csv\n"
     ]
    }
   ],
   "source": [
    "df.to_csv(\"amazon_products.csv\", index=False)\n",
    "print(\"Data saved to amazon_products.csv\")"
   ]
  },
  {
   "cell_type": "code",
   "execution_count": null,
   "id": "e8b8f98a-ef17-44e3-b122-3b7a00fa05eb",
   "metadata": {},
   "outputs": [],
   "source": []
  }
 ],
 "metadata": {
  "kernelspec": {
   "display_name": "Python 3 (ipykernel)",
   "language": "python",
   "name": "python3"
  },
  "language_info": {
   "codemirror_mode": {
    "name": "ipython",
    "version": 3
   },
   "file_extension": ".py",
   "mimetype": "text/x-python",
   "name": "python",
   "nbconvert_exporter": "python",
   "pygments_lexer": "ipython3",
   "version": "3.13.0"
  }
 },
 "nbformat": 4,
 "nbformat_minor": 5
}
